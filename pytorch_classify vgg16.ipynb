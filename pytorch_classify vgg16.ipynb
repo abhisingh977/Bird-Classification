{
 "cells": [
  {
   "cell_type": "code",
   "execution_count": 1,
   "metadata": {},
   "outputs": [
    {
     "name": "stderr",
     "output_type": "stream",
     "text": [
      "WARNING:torch_lr_finder.lr_finder:To enable mixed precision training, please install `apex`. Or you can re-install this package by the following command:\n",
      "  pip install torch-lr-finder -v --global-option=\"amp\"\n"
     ]
    }
   ],
   "source": [
    "from pathlib import Path\n",
    "import torchvision.models as models\n",
    "import pickle, gzip, math, torch, matplotlib as mpl\n",
    "import matplotlib.pyplot as plt\n",
    "from torch import tensor\n",
    "import numpy as np\n",
    "from torch_lr_finder import LRFinder\n",
    "import os"
   ]
  },
  {
   "cell_type": "code",
   "execution_count": 2,
   "metadata": {},
   "outputs": [
    {
     "name": "stdout",
     "output_type": "stream",
     "text": [
      "Pixiedust database opened successfully\n"
     ]
    },
    {
     "data": {
      "text/html": [
       "\n",
       "        <div style=\"margin:10px\">\n",
       "            <a href=\"https://github.com/ibm-watson-data-lab/pixiedust\" target=\"_new\">\n",
       "                <img src=\"https://github.com/ibm-watson-data-lab/pixiedust/raw/master/docs/_static/pd_icon32.png\" style=\"float:left;margin-right:10px\"/>\n",
       "            </a>\n",
       "            <span>Pixiedust version 1.1.18</span>\n",
       "        </div>\n",
       "        "
      ],
      "text/plain": [
       "<IPython.core.display.HTML object>"
      ]
     },
     "metadata": {},
     "output_type": "display_data"
    }
   ],
   "source": [
    "import pixiedust\n",
    "import torch\n",
    "from torch import nn\n",
    "import pathlib\n",
    "from torch.utils.data import DataLoader\n",
    "from torchvision import *"
   ]
  },
  {
   "cell_type": "code",
   "execution_count": 3,
   "metadata": {},
   "outputs": [],
   "source": [
    "device = torch.device(\"cuda:0\" if torch.cuda.is_available() else \"cpu\")"
   ]
  },
  {
   "cell_type": "code",
   "execution_count": 4,
   "metadata": {},
   "outputs": [],
   "source": [
    "torch.cuda.empty_cache()"
   ]
  },
  {
   "cell_type": "code",
   "execution_count": 5,
   "metadata": {},
   "outputs": [],
   "source": [
    "transformtrain= transforms.Compose([\n",
    "    transforms.Resize((124,124)),\n",
    "    transforms.RandomHorizontalFlip(),\n",
    "    transforms.ToTensor(),              #convert the value to tensor\n",
    "    transforms.Normalize(mean=[0.485, 0.456, 0.406],\n",
    "                                 std=[0.229, 0.224, 0.225])         # convert all the value form -1 to 1 for all RGB\n",
    "])"
   ]
  },
  {
   "cell_type": "code",
   "execution_count": 6,
   "metadata": {},
   "outputs": [],
   "source": [
    "transformvalid= transforms.Compose([\n",
    "    transforms.Resize((124,124)),\n",
    "    transforms.RandomHorizontalFlip(),\n",
    "    transforms.ToTensor(),\n",
    "    #convert the value to tensor\n",
    "    transforms.Normalize(mean=[0.485, 0.456, 0.406],\n",
    "                                 std=[0.229, 0.224, 0.225])         # convert all the value form -1 to 1 for all RGB\n",
    "])"
   ]
  },
  {
   "cell_type": "code",
   "execution_count": 7,
   "metadata": {},
   "outputs": [],
   "source": [
    "model = models.vgg16(pretrained=True).to(device)"
   ]
  },
  {
   "cell_type": "code",
   "execution_count": 9,
   "metadata": {},
   "outputs": [
    {
     "data": {
      "text/plain": [
       "'C:\\\\Users\\\\Iconsense\\\\abhishek\\\\bird'"
      ]
     },
     "execution_count": 9,
     "metadata": {},
     "output_type": "execute_result"
    }
   ],
   "source": [
    "pwd"
   ]
  },
  {
   "cell_type": "code",
   "execution_count": 10,
   "metadata": {},
   "outputs": [],
   "source": [
    "traindata=datasets.ImageFolder('train' , transform=transformtrain)"
   ]
  },
  {
   "cell_type": "code",
   "execution_count": 11,
   "metadata": {},
   "outputs": [],
   "source": [
    "valdata=datasets.ImageFolder('valid', transform=transformvalid)"
   ]
  },
  {
   "cell_type": "code",
   "execution_count": 12,
   "metadata": {},
   "outputs": [],
   "source": [
    "trainloader=DataLoader(traindata, batch_size=64, shuffle=True)"
   ]
  },
  {
   "cell_type": "code",
   "execution_count": 14,
   "metadata": {},
   "outputs": [],
   "source": [
    "valloader=DataLoader(valdata,batch_size=64,shuffle=True)"
   ]
  },
  {
   "cell_type": "code",
   "execution_count": 15,
   "metadata": {},
   "outputs": [
    {
     "data": {
      "text/plain": [
       "15"
      ]
     },
     "execution_count": 15,
     "metadata": {},
     "output_type": "execute_result"
    }
   ],
   "source": [
    "len(valloader)"
   ]
  },
  {
   "cell_type": "code",
   "execution_count": 16,
   "metadata": {},
   "outputs": [],
   "source": [
    "import glob\n",
    "import os\n",
    "\n",
    "path='train'"
   ]
  },
  {
   "cell_type": "code",
   "execution_count": 25,
   "metadata": {},
   "outputs": [
    {
     "name": "stdout",
     "output_type": "stream",
     "text": [
      "ALBATROSS\n",
      "ALEXANDRINE PARAKEET\n",
      "AMERICAN AVOCET\n",
      "AMERICAN BITTERN\n",
      "AMERICAN COOT\n",
      "AMERICAN GOLDFINCH\n",
      "AMERICAN KESTREL\n",
      "AMERICAN PIPIT\n",
      "AMERICAN REDSTART\n",
      "ANHINGA\n",
      "ANNAS HUMMINGBIRD\n",
      "ANTBIRD\n",
      "ARARIPE MANAKIN\n",
      "BALD EAGLE\n",
      "BALTIMORE ORIOLE\n",
      "BANANAQUIT\n",
      "BAR-TAILED GODWIT\n",
      "BARN OWL\n",
      "BARN SWALLOW\n",
      "BAY-BREASTED WARBLER\n",
      "BELTED KINGFISHER\n",
      "BIRD OF PARADISE\n",
      "BLACK FRANCOLIN\n",
      "BLACK SKIMMER\n",
      "BLACK SWAN\n",
      "BLACK THROATED WARBLER\n",
      "BLACK VULTURE\n",
      "BLACK-CAPPED CHICKADEE\n",
      "BLACK-NECKED GREBE\n",
      "BLACK-THROATED SPARROW\n",
      "BLACKBURNIAM WARBLER\n",
      "BLUE GROUSE\n",
      "BLUE HERON\n",
      "BOBOLINK\n",
      "BROWN NOODY\n",
      "BROWN THRASHER\n",
      "CACTUS WREN\n",
      "CALIFORNIA CONDOR\n",
      "CALIFORNIA GULL\n",
      "CALIFORNIA QUAIL\n",
      "CANARY\n",
      "CAPE MAY WARBLER\n",
      "CARMINE BEE-EATER\n",
      "CASPIAN TERN\n",
      "CASSOWARY\n",
      "CHARA DE COLLAR\n",
      "CHIPPING SPARROW\n",
      "CINNAMON TEAL\n",
      "COCK OF THE  ROCK\n",
      "COCKATOO\n",
      "COMMON GRACKLE\n",
      "COMMON HOUSE MARTIN\n",
      "COMMON LOON\n",
      "COMMON POORWILL\n",
      "COMMON STARLING\n",
      "COUCHS KINGBIRD\n",
      "CRESTED AUKLET\n",
      "CRESTED CARACARA\n",
      "CROW\n",
      "CROWNED PIGEON\n",
      "CUBAN TODY\n",
      "CURL CRESTED ARACURI\n",
      "D-ARNAUDS BARBET\n",
      "DARK EYED JUNCO\n",
      "DOWNY WOODPECKER\n",
      "EASTERN BLUEBIRD\n",
      "EASTERN MEADOWLARK\n",
      "EASTERN ROSELLA\n",
      "EASTERN TOWEE\n",
      "ELEGANT TROGON\n",
      "ELLIOTS  PHEASANT\n",
      "EMPEROR PENGUIN\n",
      "EMU\n",
      "EURASIAN MAGPIE\n",
      "EVENING GROSBEAK\n",
      "FLAME TANAGER\n",
      "FLAMINGO\n",
      "FRIGATE\n",
      "GILA WOODPECKER\n",
      "GLOSSY IBIS\n",
      "GOLD WING WARBLER\n",
      "GOLDEN CHLOROPHONIA\n",
      "GOLDEN EAGLE\n",
      "GOLDEN PHEASANT\n",
      "GOULDIAN FINCH\n",
      "GRAY CATBIRD\n",
      "GRAY PARTRIDGE\n",
      "GREEN JAY\n",
      "GREY PLOVER\n",
      "GUINEAFOWL\n",
      "HAWAIIAN GOOSE\n",
      "HOODED MERGANSER\n",
      "HOOPOES\n",
      "HORNBILL\n",
      "HOUSE FINCH\n",
      "HOUSE SPARROW\n",
      "HYACINTH MACAW\n",
      "IMPERIAL SHAQ\n",
      "INCA TERN\n",
      "INDIGO BUNTING\n",
      "JABIRU\n",
      "JAVAN MAGPIE\n",
      "KILLDEAR\n",
      "KING VULTURE\n",
      "LARK BUNTING\n",
      "LILAC ROLLER\n",
      "LONG-EARED OWL\n",
      "MALEO\n",
      "MALLARD DUCK\n",
      "MANDRIN DUCK\n",
      "MARABOU STORK\n",
      "MASKED BOOBY\n",
      "MIKADO  PHEASANT\n",
      "MOURNING DOVE\n",
      "MYNA\n",
      "NICOBAR PIGEON\n",
      "NORTHERN CARDINAL\n",
      "NORTHERN FLICKER\n",
      "NORTHERN GANNET\n",
      "NORTHERN GOSHAWK\n",
      "NORTHERN JACANA\n",
      "NORTHERN MOCKINGBIRD\n",
      "NORTHERN RED BISHOP\n",
      "OCELLATED TURKEY\n",
      "OSPREY\n",
      "OSTRICH\n",
      "PAINTED BUNTIG\n",
      "PARADISE TANAGER\n",
      "PARUS MAJOR\n",
      "PEACOCK\n",
      "PELICAN\n",
      "PEREGRINE FALCON\n",
      "PINK ROBIN\n",
      "PUFFIN\n",
      "PURPLE FINCH\n",
      "PURPLE GALLINULE\n",
      "PURPLE MARTIN\n",
      "PURPLE SWAMPHEN\n",
      "QUETZAL\n",
      "RAINBOW LORIKEET\n",
      "RAZORBILL\n",
      "RED BISHOP WEAVER\n",
      "RED FACED CORMORANT\n",
      "RED HEADED DUCK\n",
      "RED HEADED WOODPECKER\n",
      "RED HONEY CREEPER\n",
      "RED THROATED BEE EATER\n",
      "RED WINGED BLACKBIRD\n",
      "RED WISKERED BULBUL\n",
      "RING-BILLED GULL\n",
      "RING-NECKED PHEASANT\n",
      "ROADRUNNER\n",
      "ROBIN\n",
      "ROCK DOVE\n",
      "ROSY FACED LOVEBIRD\n",
      "ROUGH LEG BUZZARD\n",
      "RUBY THROATED HUMMINGBIRD\n",
      "RUFOUS KINGFISHER\n",
      "RUFUOS MOTMOT\n",
      "SAND MARTIN\n",
      "SCARLET IBIS\n",
      "SCARLET MACAW\n",
      "SHOEBILL\n",
      "SNOWY EGRET\n",
      "SNOWY OWL\n",
      "SORA\n",
      "SPANGLED COTINGA\n",
      "SPLENDID WREN\n",
      "SPOONBILL\n",
      "STEAMER DUCK\n",
      "STORK BILLED KINGFISHER\n",
      "STRAWBERRY FINCH\n",
      "TAIWAN MAGPIE\n",
      "TEAL DUCK\n",
      "TIT MOUSE\n",
      "TOUCHAN\n",
      "TRUMPTER SWAN\n",
      "TURKEY VULTURE\n",
      "TURQUOISE MOTMOT\n",
      "VARIED THRUSH\n",
      "VENEZUELIAN TROUPIAL\n",
      "VERMILION FLYCATHER\n",
      "VIOLET GREEN SWALLOW\n",
      "WHITE CHEEKED TURACO\n",
      "WHITE NECKED RAVEN\n",
      "WHITE TAILED TROPIC\n",
      "WILD TURKEY\n",
      "WILSONS BIRD OF PARADISE\n",
      "WOOD DUCK\n",
      "YELLOW HEADED BLACKBIRD\n"
     ]
    }
   ],
   "source": [
    "import glob\n",
    "import os\n",
    "\n",
    "# Print png images in folder C:\\Users\\admin\\\n",
    "classes=[]\n",
    "for filepath in glob.iglob(r\"train/*\"):\n",
    "    print(filepath[6:])\n",
    "    classes.append(filepath[6:])"
   ]
  },
  {
   "cell_type": "code",
   "execution_count": null,
   "metadata": {},
   "outputs": [],
   "source": []
  },
  {
   "cell_type": "code",
   "execution_count": null,
   "metadata": {},
   "outputs": [],
   "source": []
  },
  {
   "cell_type": "code",
   "execution_count": 29,
   "metadata": {},
   "outputs": [],
   "source": [
    "noclass=len(classes)"
   ]
  },
  {
   "cell_type": "code",
   "execution_count": 30,
   "metadata": {},
   "outputs": [
    {
     "data": {
      "text/plain": [
       "190"
      ]
     },
     "execution_count": 30,
     "metadata": {},
     "output_type": "execute_result"
    }
   ],
   "source": [
    "noclass"
   ]
  },
  {
   "cell_type": "code",
   "execution_count": 31,
   "metadata": {},
   "outputs": [],
   "source": [
    "\n",
    "for param in model.parameters():\n",
    "    param.requires_grad=False"
   ]
  },
  {
   "cell_type": "code",
   "execution_count": 18,
   "metadata": {},
   "outputs": [],
   "source": [
    "# for param in model.parameters():\n",
    "#     print(param)"
   ]
  },
  {
   "cell_type": "code",
   "execution_count": 32,
   "metadata": {},
   "outputs": [
    {
     "data": {
      "text/plain": [
       "VGG(\n",
       "  (features): Sequential(\n",
       "    (0): Conv2d(3, 64, kernel_size=(3, 3), stride=(1, 1), padding=(1, 1))\n",
       "    (1): ReLU(inplace=True)\n",
       "    (2): Conv2d(64, 64, kernel_size=(3, 3), stride=(1, 1), padding=(1, 1))\n",
       "    (3): ReLU(inplace=True)\n",
       "    (4): MaxPool2d(kernel_size=2, stride=2, padding=0, dilation=1, ceil_mode=False)\n",
       "    (5): Conv2d(64, 128, kernel_size=(3, 3), stride=(1, 1), padding=(1, 1))\n",
       "    (6): ReLU(inplace=True)\n",
       "    (7): Conv2d(128, 128, kernel_size=(3, 3), stride=(1, 1), padding=(1, 1))\n",
       "    (8): ReLU(inplace=True)\n",
       "    (9): MaxPool2d(kernel_size=2, stride=2, padding=0, dilation=1, ceil_mode=False)\n",
       "    (10): Conv2d(128, 256, kernel_size=(3, 3), stride=(1, 1), padding=(1, 1))\n",
       "    (11): ReLU(inplace=True)\n",
       "    (12): Conv2d(256, 256, kernel_size=(3, 3), stride=(1, 1), padding=(1, 1))\n",
       "    (13): ReLU(inplace=True)\n",
       "    (14): Conv2d(256, 256, kernel_size=(3, 3), stride=(1, 1), padding=(1, 1))\n",
       "    (15): ReLU(inplace=True)\n",
       "    (16): MaxPool2d(kernel_size=2, stride=2, padding=0, dilation=1, ceil_mode=False)\n",
       "    (17): Conv2d(256, 512, kernel_size=(3, 3), stride=(1, 1), padding=(1, 1))\n",
       "    (18): ReLU(inplace=True)\n",
       "    (19): Conv2d(512, 512, kernel_size=(3, 3), stride=(1, 1), padding=(1, 1))\n",
       "    (20): ReLU(inplace=True)\n",
       "    (21): Conv2d(512, 512, kernel_size=(3, 3), stride=(1, 1), padding=(1, 1))\n",
       "    (22): ReLU(inplace=True)\n",
       "    (23): MaxPool2d(kernel_size=2, stride=2, padding=0, dilation=1, ceil_mode=False)\n",
       "    (24): Conv2d(512, 512, kernel_size=(3, 3), stride=(1, 1), padding=(1, 1))\n",
       "    (25): ReLU(inplace=True)\n",
       "    (26): Conv2d(512, 512, kernel_size=(3, 3), stride=(1, 1), padding=(1, 1))\n",
       "    (27): ReLU(inplace=True)\n",
       "    (28): Conv2d(512, 512, kernel_size=(3, 3), stride=(1, 1), padding=(1, 1))\n",
       "    (29): ReLU(inplace=True)\n",
       "    (30): MaxPool2d(kernel_size=2, stride=2, padding=0, dilation=1, ceil_mode=False)\n",
       "  )\n",
       "  (avgpool): AdaptiveAvgPool2d(output_size=(7, 7))\n",
       "  (classifier): Sequential(\n",
       "    (0): Linear(in_features=25088, out_features=4096, bias=True)\n",
       "    (1): ReLU(inplace=True)\n",
       "    (2): Dropout(p=0.5, inplace=False)\n",
       "    (3): Linear(in_features=4096, out_features=4096, bias=True)\n",
       "    (4): ReLU(inplace=True)\n",
       "    (5): Dropout(p=0.5, inplace=False)\n",
       "    (6): Linear(in_features=4096, out_features=1000, bias=True)\n",
       "  )\n",
       ")"
      ]
     },
     "execution_count": 32,
     "metadata": {},
     "output_type": "execute_result"
    }
   ],
   "source": [
    "model"
   ]
  },
  {
   "cell_type": "code",
   "execution_count": 36,
   "metadata": {},
   "outputs": [
    {
     "data": {
      "text/plain": [
       "Sequential(\n",
       "  (6): Linear(in_features=4096, out_features=1000, bias=True)\n",
       ")"
      ]
     },
     "execution_count": 36,
     "metadata": {},
     "output_type": "execute_result"
    }
   ],
   "source": [
    "model.classifier[6:]"
   ]
  },
  {
   "cell_type": "code",
   "execution_count": 39,
   "metadata": {},
   "outputs": [
    {
     "data": {
      "text/plain": [
       "Linear(in_features=4096, out_features=1000, bias=True)"
      ]
     },
     "execution_count": 39,
     "metadata": {},
     "output_type": "execute_result"
    }
   ],
   "source": [
    "model.classifier[-1]"
   ]
  },
  {
   "cell_type": "code",
   "execution_count": 40,
   "metadata": {},
   "outputs": [],
   "source": [
    "model.classifier[-1]=nn.Linear(model.classifier[-1].in_features,noclass).to(device)\n",
    "criterion=nn.CrossEntropyLoss()\n",
    "optimizer=torch.optim.Adam(model.parameters(),lr=0.000001)"
   ]
  },
  {
   "cell_type": "code",
   "execution_count": null,
   "metadata": {},
   "outputs": [],
   "source": []
  },
  {
   "cell_type": "code",
   "execution_count": 41,
   "metadata": {
    "scrolled": true
   },
   "outputs": [
    {
     "data": {
      "application/vnd.jupyter.widget-view+json": {
       "model_id": "8eed681d8ab842a49a2dcad0e924b92d",
       "version_major": 2,
       "version_minor": 0
      },
      "text/plain": [
       "HBox(children=(FloatProgress(value=0.0), HTML(value='')))"
      ]
     },
     "metadata": {},
     "output_type": "display_data"
    },
    {
     "name": "stdout",
     "output_type": "stream",
     "text": [
      "Stopping early, the loss has diverged\n",
      "Learning rate search finished. See the graph with {finder_name}.plot()\n"
     ]
    },
    {
     "data": {
      "image/png": "[encoded data removed]",
      "text/plain": [
       "<Figure size 432x288 with 1 Axes>"
      ]
     },
     "metadata": {
      "needs_background": "light"
     },
     "output_type": "display_data"
    }
   ],
   "source": [
    "lr_finder = LRFinder(model, optimizer, criterion, device=\"cuda\")\n",
    "lr_finder.range_test(trainloader, end_lr=150, num_iter=100)\n",
    "lr_finder.plot() # to inspect the loss-learning rate graph\n",
    "lr_finder.reset() # to reset the model and optimizer to their initial state"
   ]
  },
  {
   "cell_type": "code",
   "execution_count": 50,
   "metadata": {},
   "outputs": [],
   "source": [
    "# optimizer=torch.optim.Adam(model.parameters(),lr=0.00001)\n",
    "# lr_finder = LRFinder(model, optimizer, criterion, device=\"cuda\")\n",
    "# lr_finder.range_test(trainloader, val_loader=valloader, end_lr=100, num_iter=100, step_mode=\"linear\")\n",
    "# lr_finder.plot(log_lr=False)\n",
    "# lr_finder.reset()"
   ]
  },
  {
   "cell_type": "code",
   "execution_count": 42,
   "metadata": {},
   "outputs": [],
   "source": [
    "optimizer=torch.optim.Adam(model.parameters(),lr=1e-3)"
   ]
  },
  {
   "cell_type": "code",
   "execution_count": 43,
   "metadata": {},
   "outputs": [],
   "source": [
    "optimizer.zero_grad()"
   ]
  },
  {
   "cell_type": "code",
   "execution_count": 44,
   "metadata": {},
   "outputs": [],
   "source": [
    "def accuracy(out, yb): \n",
    "    return (torch.argmax(out, dim=1)==yb).float().mean()\n",
    "#%%pixie_debugger"
   ]
  },
  {
   "cell_type": "code",
   "execution_count": 45,
   "metadata": {},
   "outputs": [],
   "source": [
    "def fit(epochs, model, loss_func, opt, train_dl, valid_dl):\n",
    "    tloss=[]\n",
    "    vloss=[]\n",
    "    \n",
    "    for epoch in range(epochs):\n",
    "        # Handle batchnorm / dropout\n",
    "        model.train()\n",
    "        tot_train=0\n",
    "#         print(model.training)\n",
    "        for xb,yb in train_dl:\n",
    "            xb, yb = xb.to(device), yb.to(device)\n",
    "            loss = loss_func(model(xb), yb)\n",
    "            tot_train+=loss\n",
    "            loss.backward()\n",
    "            opt.step()\n",
    "            opt.zero_grad()\n",
    "        nt=len(train_dl)\n",
    "        \n",
    "        \n",
    "        model.eval()\n",
    "#         print(model.training)\n",
    "        with torch.no_grad():\n",
    "            tot_loss,tot_acc = 0.,0.\n",
    "            for xb,yb in valid_dl:\n",
    "                xb, yb = xb.to(device), yb.to(device)\n",
    "                pred = model(xb)\n",
    "                tot_loss += loss_func(pred, yb)\n",
    "                tot_acc  += accuracy (pred,yb)\n",
    "        nv = len(valid_dl)\n",
    "        tloss.append(tot_train/nt)\n",
    "        vloss.append(tot_loss/nv)\n",
    "        print(epoch,tot_train/nt, tot_loss/nv, tot_acc/nv)\n",
    "    return tloss, vloss"
   ]
  },
  {
   "cell_type": "code",
   "execution_count": 46,
   "metadata": {},
   "outputs": [
    {
     "name": "stdout",
     "output_type": "stream",
     "text": [
      "0 tensor(1.8778, device='cuda:0', grad_fn=<DivBackward0>) tensor(0.6611, device='cuda:0') tensor(0.8300, device='cuda:0')\n",
      "1 tensor(1.3019, device='cuda:0', grad_fn=<DivBackward0>) tensor(0.5974, device='cuda:0') tensor(0.8366, device='cuda:0')\n",
      "2 tensor(1.2276, device='cuda:0', grad_fn=<DivBackward0>) tensor(0.6055, device='cuda:0') tensor(0.8638, device='cuda:0')\n",
      "3 tensor(1.1654, device='cuda:0', grad_fn=<DivBackward0>) tensor(0.6398, device='cuda:0') tensor(0.8569, device='cuda:0')\n",
      "4 tensor(1.1806, device='cuda:0', grad_fn=<DivBackward0>) tensor(0.5800, device='cuda:0') tensor(0.8670, device='cuda:0')\n",
      "5 tensor(1.1288, device='cuda:0', grad_fn=<DivBackward0>) tensor(0.5541, device='cuda:0') tensor(0.8735, device='cuda:0')\n"
     ]
    }
   ],
   "source": [
    "ltrain,lval = fit(6, model, criterion, optimizer, trainloader, valloader)"
   ]
  },
  {
   "cell_type": "code",
   "execution_count": 27,
   "metadata": {
    "scrolled": true
   },
   "outputs": [
    {
     "data": {
      "text/plain": [
       "[tensor(0.8280, device='cuda:0', grad_fn=<DivBackward0>),\n",
       " tensor(0.4557, device='cuda:0', grad_fn=<DivBackward0>),\n",
       " tensor(0.4056, device='cuda:0', grad_fn=<DivBackward0>),\n",
       " tensor(0.3756, device='cuda:0', grad_fn=<DivBackward0>),\n",
       " tensor(0.3537, device='cuda:0', grad_fn=<DivBackward0>),\n",
       " tensor(0.3474, device='cuda:0', grad_fn=<DivBackward0>)]"
      ]
     },
     "execution_count": 27,
     "metadata": {},
     "output_type": "execute_result"
    }
   ],
   "source": [
    "ltrain"
   ]
  },
  {
   "cell_type": "code",
   "execution_count": 47,
   "metadata": {},
   "outputs": [
    {
     "data": {
      "text/plain": [
       "'C:\\\\Users\\\\Iconsense\\\\abhishek\\\\bird'"
      ]
     },
     "execution_count": 47,
     "metadata": {},
     "output_type": "execute_result"
    }
   ],
   "source": [
    "pwd"
   ]
  },
  {
   "cell_type": "code",
   "execution_count": 65,
   "metadata": {},
   "outputs": [],
   "source": [
    "path=\"C:/Users/Iconsense/abhishek/bird/train1\""
   ]
  },
  {
   "cell_type": "code",
   "execution_count": 67,
   "metadata": {},
   "outputs": [],
   "source": [
    "torch.save({\n",
    "            \n",
    "            'model_state_dict': model.state_dict(),\n",
    "            'optimizer_state_dict': optimizer.state_dict(),\n",
    "            \n",
    "            \n",
    "            }, path)"
   ]
  },
  {
   "cell_type": "code",
   "execution_count": null,
   "metadata": {},
   "outputs": [],
   "source": []
  },
  {
   "cell_type": "code",
   "execution_count": 68,
   "metadata": {},
   "outputs": [
    {
     "data": {
      "text/plain": [
       "VGG(\n",
       "  (features): Sequential(\n",
       "    (0): Conv2d(3, 64, kernel_size=(3, 3), stride=(1, 1), padding=(1, 1))\n",
       "    (1): ReLU(inplace=True)\n",
       "    (2): Conv2d(64, 64, kernel_size=(3, 3), stride=(1, 1), padding=(1, 1))\n",
       "    (3): ReLU(inplace=True)\n",
       "    (4): MaxPool2d(kernel_size=2, stride=2, padding=0, dilation=1, ceil_mode=False)\n",
       "    (5): Conv2d(64, 128, kernel_size=(3, 3), stride=(1, 1), padding=(1, 1))\n",
       "    (6): ReLU(inplace=True)\n",
       "    (7): Conv2d(128, 128, kernel_size=(3, 3), stride=(1, 1), padding=(1, 1))\n",
       "    (8): ReLU(inplace=True)\n",
       "    (9): MaxPool2d(kernel_size=2, stride=2, padding=0, dilation=1, ceil_mode=False)\n",
       "    (10): Conv2d(128, 256, kernel_size=(3, 3), stride=(1, 1), padding=(1, 1))\n",
       "    (11): ReLU(inplace=True)\n",
       "    (12): Conv2d(256, 256, kernel_size=(3, 3), stride=(1, 1), padding=(1, 1))\n",
       "    (13): ReLU(inplace=True)\n",
       "    (14): Conv2d(256, 256, kernel_size=(3, 3), stride=(1, 1), padding=(1, 1))\n",
       "    (15): ReLU(inplace=True)\n",
       "    (16): MaxPool2d(kernel_size=2, stride=2, padding=0, dilation=1, ceil_mode=False)\n",
       "    (17): Conv2d(256, 512, kernel_size=(3, 3), stride=(1, 1), padding=(1, 1))\n",
       "    (18): ReLU(inplace=True)\n",
       "    (19): Conv2d(512, 512, kernel_size=(3, 3), stride=(1, 1), padding=(1, 1))\n",
       "    (20): ReLU(inplace=True)\n",
       "    (21): Conv2d(512, 512, kernel_size=(3, 3), stride=(1, 1), padding=(1, 1))\n",
       "    (22): ReLU(inplace=True)\n",
       "    (23): MaxPool2d(kernel_size=2, stride=2, padding=0, dilation=1, ceil_mode=False)\n",
       "    (24): Conv2d(512, 512, kernel_size=(3, 3), stride=(1, 1), padding=(1, 1))\n",
       "    (25): ReLU(inplace=True)\n",
       "    (26): Conv2d(512, 512, kernel_size=(3, 3), stride=(1, 1), padding=(1, 1))\n",
       "    (27): ReLU(inplace=True)\n",
       "    (28): Conv2d(512, 512, kernel_size=(3, 3), stride=(1, 1), padding=(1, 1))\n",
       "    (29): ReLU(inplace=True)\n",
       "    (30): MaxPool2d(kernel_size=2, stride=2, padding=0, dilation=1, ceil_mode=False)\n",
       "  )\n",
       "  (avgpool): AdaptiveAvgPool2d(output_size=(7, 7))\n",
       "  (classifier): Sequential(\n",
       "    (0): Linear(in_features=25088, out_features=4096, bias=True)\n",
       "    (1): ReLU(inplace=True)\n",
       "    (2): Dropout(p=0.5, inplace=False)\n",
       "    (3): Linear(in_features=4096, out_features=4096, bias=True)\n",
       "    (4): ReLU(inplace=True)\n",
       "    (5): Dropout(p=0.5, inplace=False)\n",
       "    (6): Linear(in_features=4096, out_features=190, bias=True)\n",
       "  )\n",
       ")"
      ]
     },
     "execution_count": 68,
     "metadata": {},
     "output_type": "execute_result"
    }
   ],
   "source": [
    "checkpoint = torch.load(path)\n",
    "model.load_state_dict(checkpoint['model_state_dict'])\n",
    "\n",
    "optimizer.load_state_dict(checkpoint['optimizer_state_dict'])\n",
    "# optimizerB.load_state_dict(checkpoint['optimizerB_state_dict'])\n",
    "\n",
    "# modelA.eval()\n",
    "# modelB.eval()\n",
    "# # - or -\n",
    "model.train()\n",
    "# modelB.train()"
   ]
  },
  {
   "cell_type": "code",
   "execution_count": 37,
   "metadata": {},
   "outputs": [
    {
     "data": {
      "text/plain": [
       "[tensor(0.4978, device='cuda:0'),\n",
       " tensor(0.4229, device='cuda:0'),\n",
       " tensor(0.4007, device='cuda:0'),\n",
       " tensor(0.3811, device='cuda:0'),\n",
       " tensor(0.3577, device='cuda:0'),\n",
       " tensor(0.3652, device='cuda:0')]"
      ]
     },
     "execution_count": 37,
     "metadata": {},
     "output_type": "execute_result"
    }
   ],
   "source": [
    "lval"
   ]
  },
  {
   "cell_type": "code",
   "execution_count": 38,
   "metadata": {},
   "outputs": [],
   "source": [
    "# tloss=np.array(losstrain)\n",
    "# vloss=np.array(lossval)"
   ]
  },
  {
   "cell_type": "code",
   "execution_count": 69,
   "metadata": {},
   "outputs": [
    {
     "data": {
      "image/png": "[encoded data removed]",
      "text/plain": [
       "<Figure size 432x288 with 1 Axes>"
      ]
     },
     "metadata": {
      "needs_background": "light"
     },
     "output_type": "display_data"
    }
   ],
   "source": [
    "plt.plot(ltrain, label='Training loss', color='green')\n",
    "plt.plot(lval, label='Validation loss', color ='black')\n",
    "plt.legend(frameon=False)\n",
    "plt.show()"
   ]
  },
  {
   "cell_type": "code",
   "execution_count": 70,
   "metadata": {},
   "outputs": [],
   "source": [
    "from PIL import Image\n",
    "import numpy as np"
   ]
  },
  {
   "cell_type": "code",
   "execution_count": null,
   "metadata": {},
   "outputs": [],
   "source": [
    "\n",
    "    "
   ]
  },
  {
   "cell_type": "code",
   "execution_count": 73,
   "metadata": {},
   "outputs": [],
   "source": [
    "img = Image.open('train/AMERICAN AVOCET/001.jpg')"
   ]
  },
  {
   "cell_type": "code",
   "execution_count": 74,
   "metadata": {},
   "outputs": [],
   "source": [
    "nimg = np.array(img)"
   ]
  },
  {
   "cell_type": "code",
   "execution_count": 75,
   "metadata": {},
   "outputs": [
    {
     "data": {
      "text/plain": [
       "<matplotlib.image.AxesImage at 0x24043029e88>"
      ]
     },
     "execution_count": 75,
     "metadata": {},
     "output_type": "execute_result"
    },
    {
     "data": {
      "image/png": "[encoded data removed]",
      "text/plain": [
       "<Figure size 432x288 with 1 Axes>"
      ]
     },
     "metadata": {
      "needs_background": "light"
     },
     "output_type": "display_data"
    }
   ],
   "source": [
    "plt.imshow(nimg)\n"
   ]
  },
  {
   "cell_type": "code",
   "execution_count": 76,
   "metadata": {},
   "outputs": [],
   "source": [
    "nimg = transformvalid(img).unsqueeze(0).to(device)"
   ]
  },
  {
   "cell_type": "code",
   "execution_count": 77,
   "metadata": {},
   "outputs": [
    {
     "data": {
      "text/plain": [
       "torch.Size([1, 3, 124, 124])"
      ]
     },
     "execution_count": 77,
     "metadata": {},
     "output_type": "execute_result"
    }
   ],
   "source": [
    "nimg.shape"
   ]
  },
  {
   "cell_type": "code",
   "execution_count": 78,
   "metadata": {},
   "outputs": [],
   "source": [
    "prediction = model(nimg)"
   ]
  },
  {
   "cell_type": "code",
   "execution_count": 79,
   "metadata": {},
   "outputs": [],
   "source": [
    "_, tpredict = torch.max(prediction.data, 1)"
   ]
  },
  {
   "cell_type": "code",
   "execution_count": 80,
   "metadata": {
    "scrolled": true
   },
   "outputs": [
    {
     "data": {
      "text/plain": [
       "'AMERICAN AVOCET'"
      ]
     },
     "execution_count": 80,
     "metadata": {},
     "output_type": "execute_result"
    }
   ],
   "source": [
    "classes[tpredict[0].item()]"
   ]
  },
  {
   "cell_type": "code",
   "execution_count": null,
   "metadata": {},
   "outputs": [],
   "source": []
  },
  {
   "cell_type": "code",
   "execution_count": 60,
   "metadata": {},
   "outputs": [
    {
     "data": {
      "text/plain": [
       "ResNet(\n",
       "  (conv1): Conv2d(3, 64, kernel_size=(7, 7), stride=(2, 2), padding=(3, 3), bias=False)\n",
       "  (bn1): BatchNorm2d(64, eps=1e-05, momentum=0.1, affine=True, track_running_stats=True)\n",
       "  (relu): ReLU(inplace=True)\n",
       "  (maxpool): MaxPool2d(kernel_size=3, stride=2, padding=1, dilation=1, ceil_mode=False)\n",
       "  (layer1): Sequential(\n",
       "    (0): BasicBlock(\n",
       "      (conv1): Conv2d(64, 64, kernel_size=(3, 3), stride=(1, 1), padding=(1, 1), bias=False)\n",
       "      (bn1): BatchNorm2d(64, eps=1e-05, momentum=0.1, affine=True, track_running_stats=True)\n",
       "      (relu): ReLU(inplace=True)\n",
       "      (conv2): Conv2d(64, 64, kernel_size=(3, 3), stride=(1, 1), padding=(1, 1), bias=False)\n",
       "      (bn2): BatchNorm2d(64, eps=1e-05, momentum=0.1, affine=True, track_running_stats=True)\n",
       "    )\n",
       "    (1): BasicBlock(\n",
       "      (conv1): Conv2d(64, 64, kernel_size=(3, 3), stride=(1, 1), padding=(1, 1), bias=False)\n",
       "      (bn1): BatchNorm2d(64, eps=1e-05, momentum=0.1, affine=True, track_running_stats=True)\n",
       "      (relu): ReLU(inplace=True)\n",
       "      (conv2): Conv2d(64, 64, kernel_size=(3, 3), stride=(1, 1), padding=(1, 1), bias=False)\n",
       "      (bn2): BatchNorm2d(64, eps=1e-05, momentum=0.1, affine=True, track_running_stats=True)\n",
       "    )\n",
       "  )\n",
       "  (layer2): Sequential(\n",
       "    (0): BasicBlock(\n",
       "      (conv1): Conv2d(64, 128, kernel_size=(3, 3), stride=(2, 2), padding=(1, 1), bias=False)\n",
       "      (bn1): BatchNorm2d(128, eps=1e-05, momentum=0.1, affine=True, track_running_stats=True)\n",
       "      (relu): ReLU(inplace=True)\n",
       "      (conv2): Conv2d(128, 128, kernel_size=(3, 3), stride=(1, 1), padding=(1, 1), bias=False)\n",
       "      (bn2): BatchNorm2d(128, eps=1e-05, momentum=0.1, affine=True, track_running_stats=True)\n",
       "      (downsample): Sequential(\n",
       "        (0): Conv2d(64, 128, kernel_size=(1, 1), stride=(2, 2), bias=False)\n",
       "        (1): BatchNorm2d(128, eps=1e-05, momentum=0.1, affine=True, track_running_stats=True)\n",
       "      )\n",
       "    )\n",
       "    (1): BasicBlock(\n",
       "      (conv1): Conv2d(128, 128, kernel_size=(3, 3), stride=(1, 1), padding=(1, 1), bias=False)\n",
       "      (bn1): BatchNorm2d(128, eps=1e-05, momentum=0.1, affine=True, track_running_stats=True)\n",
       "      (relu): ReLU(inplace=True)\n",
       "      (conv2): Conv2d(128, 128, kernel_size=(3, 3), stride=(1, 1), padding=(1, 1), bias=False)\n",
       "      (bn2): BatchNorm2d(128, eps=1e-05, momentum=0.1, affine=True, track_running_stats=True)\n",
       "    )\n",
       "  )\n",
       "  (layer3): Sequential(\n",
       "    (0): BasicBlock(\n",
       "      (conv1): Conv2d(128, 256, kernel_size=(3, 3), stride=(2, 2), padding=(1, 1), bias=False)\n",
       "      (bn1): BatchNorm2d(256, eps=1e-05, momentum=0.1, affine=True, track_running_stats=True)\n",
       "      (relu): ReLU(inplace=True)\n",
       "      (conv2): Conv2d(256, 256, kernel_size=(3, 3), stride=(1, 1), padding=(1, 1), bias=False)\n",
       "      (bn2): BatchNorm2d(256, eps=1e-05, momentum=0.1, affine=True, track_running_stats=True)\n",
       "      (downsample): Sequential(\n",
       "        (0): Conv2d(128, 256, kernel_size=(1, 1), stride=(2, 2), bias=False)\n",
       "        (1): BatchNorm2d(256, eps=1e-05, momentum=0.1, affine=True, track_running_stats=True)\n",
       "      )\n",
       "    )\n",
       "    (1): BasicBlock(\n",
       "      (conv1): Conv2d(256, 256, kernel_size=(3, 3), stride=(1, 1), padding=(1, 1), bias=False)\n",
       "      (bn1): BatchNorm2d(256, eps=1e-05, momentum=0.1, affine=True, track_running_stats=True)\n",
       "      (relu): ReLU(inplace=True)\n",
       "      (conv2): Conv2d(256, 256, kernel_size=(3, 3), stride=(1, 1), padding=(1, 1), bias=False)\n",
       "      (bn2): BatchNorm2d(256, eps=1e-05, momentum=0.1, affine=True, track_running_stats=True)\n",
       "    )\n",
       "  )\n",
       "  (layer4): Sequential(\n",
       "    (0): BasicBlock(\n",
       "      (conv1): Conv2d(256, 512, kernel_size=(3, 3), stride=(2, 2), padding=(1, 1), bias=False)\n",
       "      (bn1): BatchNorm2d(512, eps=1e-05, momentum=0.1, affine=True, track_running_stats=True)\n",
       "      (relu): ReLU(inplace=True)\n",
       "      (conv2): Conv2d(512, 512, kernel_size=(3, 3), stride=(1, 1), padding=(1, 1), bias=False)\n",
       "      (bn2): BatchNorm2d(512, eps=1e-05, momentum=0.1, affine=True, track_running_stats=True)\n",
       "      (downsample): Sequential(\n",
       "        (0): Conv2d(256, 512, kernel_size=(1, 1), stride=(2, 2), bias=False)\n",
       "        (1): BatchNorm2d(512, eps=1e-05, momentum=0.1, affine=True, track_running_stats=True)\n",
       "      )\n",
       "    )\n",
       "    (1): BasicBlock(\n",
       "      (conv1): Conv2d(512, 512, kernel_size=(3, 3), stride=(1, 1), padding=(1, 1), bias=False)\n",
       "      (bn1): BatchNorm2d(512, eps=1e-05, momentum=0.1, affine=True, track_running_stats=True)\n",
       "      (relu): ReLU(inplace=True)\n",
       "      (conv2): Conv2d(512, 512, kernel_size=(3, 3), stride=(1, 1), padding=(1, 1), bias=False)\n",
       "      (bn2): BatchNorm2d(512, eps=1e-05, momentum=0.1, affine=True, track_running_stats=True)\n",
       "    )\n",
       "  )\n",
       "  (avgpool): AdaptiveAvgPool2d(output_size=(1, 1))\n",
       "  (fc): Linear(in_features=512, out_features=6, bias=True)\n",
       ")"
      ]
     },
     "execution_count": 60,
     "metadata": {},
     "output_type": "execute_result"
    }
   ],
   "source": [
    "model"
   ]
  },
  {
   "cell_type": "code",
   "execution_count": null,
   "metadata": {},
   "outputs": [],
   "source": []
  },
  {
   "cell_type": "code",
   "execution_count": 61,
   "metadata": {},
   "outputs": [
    {
     "data": {
      "text/plain": [
       "\"optimizer = torch.optim.Adam([{'params': model.layer4.parameters()},\\n                {'params': model.layer1.parameters(), 'lr': 1e-2},\\n                {'params': model.layer2.parameters(), 'lr': 1e-4},\\n            \\n            ], lr=1e-1)\""
      ]
     },
     "execution_count": 61,
     "metadata": {},
     "output_type": "execute_result"
    }
   ],
   "source": [
    "for param in model.parameters():\n",
    "    param.requires_grad = True\n",
    "optimizer=torch.optim.Adam(model.parameters(),lr=0.00000001)   \n",
    "\"\"\"optimizer = torch.optim.Adam([{'params': model.layer4.parameters()},\n",
    "                {'params': model.layer1.parameters(), 'lr': 1e-2},\n",
    "                {'params': model.layer2.parameters(), 'lr': 1e-4},\n",
    "            \n",
    "            ], lr=1e-1)\"\"\""
   ]
  },
  {
   "cell_type": "code",
   "execution_count": null,
   "metadata": {},
   "outputs": [],
   "source": []
  },
  {
   "cell_type": "code",
   "execution_count": null,
   "metadata": {},
   "outputs": [],
   "source": []
  },
  {
   "cell_type": "code",
   "execution_count": 62,
   "metadata": {},
   "outputs": [
    {
     "data": {
      "application/vnd.jupyter.widget-view+json": {
       "model_id": "9aef25d98e634d69b28a6bb24024123c",
       "version_major": 2,
       "version_minor": 0
      },
      "text/plain": [
       "HBox(children=(FloatProgress(value=0.0), HTML(value='')))"
      ]
     },
     "metadata": {},
     "output_type": "display_data"
    },
    {
     "name": "stdout",
     "output_type": "stream",
     "text": [
      "Stopping early, the loss has diverged\n",
      "Learning rate search finished. See the graph with {finder_name}.plot()\n",
      "\n"
     ]
    },
    {
     "data": {
      "image/png": "[encoded data removed]",
      "text/plain": [
       "<Figure size 432x288 with 1 Axes>"
      ]
     },
     "metadata": {
      "needs_background": "light"
     },
     "output_type": "display_data"
    }
   ],
   "source": [
    "lr_finder = LRFinder(model, optimizer, criterion, device=\"cuda\")\n",
    "lr_finder.range_test(trainloader, end_lr=100, num_iter=100)\n",
    "lr_finder.plot() # to inspect the loss-learning rate graph\n",
    "lr_finder.reset() # to reset the model and optimizer to their initial state"
   ]
  },
  {
   "cell_type": "code",
   "execution_count": null,
   "metadata": {},
   "outputs": [],
   "source": []
  },
  {
   "cell_type": "code",
   "execution_count": 66,
   "metadata": {},
   "outputs": [],
   "source": [
    "for param in model.parameters():\n",
    "    param.requires_grad = True\n",
    "    \n",
    "optimizer = torch.optim.Adam([{'params': model.layer4.parameters()},\n",
    "                {'params': model.layer1.parameters(), 'lr': 5e-7},\n",
    "                 {'params': model.layer2.parameters(), 'lr': 1e-6},\n",
    "                {'params': model.layer3.parameters(), 'lr': 1e-5}\n",
    "            ], lr=1e-4)"
   ]
  },
  {
   "cell_type": "code",
   "execution_count": 67,
   "metadata": {},
   "outputs": [],
   "source": [
    "def fit(epochs, model, loss_func, opt, train_dl, valid_dl):\n",
    "    tloss=[]\n",
    "    vloss=[]\n",
    "    \n",
    "    for epoch in range(epochs):\n",
    "        # Handle batchnorm / dropout\n",
    "        model.train()\n",
    "        tot_train=0\n",
    "#         print(model.training)\n",
    "        for xb,yb in train_dl:\n",
    "            xb, yb = xb.to(device), yb.to(device)\n",
    "            loss = loss_func(model(xb), yb)\n",
    "            tot_train+=loss\n",
    "            loss.backward()\n",
    "            opt.step()\n",
    "            opt.zero_grad()\n",
    "        nt=len(train_dl)\n",
    "        \n",
    "        \n",
    "        model.eval()\n",
    "#         print(model.training)\n",
    "        with torch.no_grad():\n",
    "            tot_loss,tot_acc = 0.,0.\n",
    "            for xb,yb in valid_dl:\n",
    "                xb, yb = xb.to(device), yb.to(device)\n",
    "                pred = model(xb)\n",
    "                tot_loss += loss_func(pred, yb)\n",
    "                tot_acc  += accuracy (pred,yb)\n",
    "        nv = len(valid_dl)\n",
    "        tloss.append(tot_train/nt)\n",
    "        vloss.append(tot_loss/nv)\n",
    "        print(epoch,tot_train/nt, tot_loss/nv, tot_acc/nv)\n",
    "    return tloss, vloss"
   ]
  },
  {
   "cell_type": "code",
   "execution_count": 68,
   "metadata": {},
   "outputs": [
    {
     "name": "stdout",
     "output_type": "stream",
     "text": [
      "0 tensor(0.0353, device='cuda:0', grad_fn=<DivBackward0>) tensor(0.2867, device='cuda:0') tensor(0.9277, device='cuda:0')\n",
      "1 tensor(0.0212, device='cuda:0', grad_fn=<DivBackward0>) tensor(0.3138, device='cuda:0') tensor(0.9247, device='cuda:0')\n",
      "2 tensor(0.0189, device='cuda:0', grad_fn=<DivBackward0>) tensor(0.3912, device='cuda:0') tensor(0.9130, device='cuda:0')\n",
      "3 tensor(0.0213, device='cuda:0', grad_fn=<DivBackward0>) tensor(0.3768, device='cuda:0') tensor(0.9201, device='cuda:0')\n",
      "4 tensor(0.0161, device='cuda:0', grad_fn=<DivBackward0>) tensor(0.3603, device='cuda:0') tensor(0.9233, device='cuda:0')\n",
      "5 tensor(0.0170, device='cuda:0', grad_fn=<DivBackward0>) tensor(0.3613, device='cuda:0') tensor(0.9261, device='cuda:0')\n"
     ]
    }
   ],
   "source": [
    "ltrain,lval = fit(6, model, criterion, optimizer, trainloader, valloader)"
   ]
  },
  {
   "cell_type": "code",
   "execution_count": null,
   "metadata": {},
   "outputs": [],
   "source": []
  },
  {
   "cell_type": "code",
   "execution_count": 245,
   "metadata": {},
   "outputs": [],
   "source": [
    "# criterion = nn.CrossEntropyLoss()\n",
    "# optimizer=torch.optim.Adam(model.parameters(),lr=0.000001)\n",
    "# lr_finder = LRFinder(model, optimizer, criterion, device=\"cuda\")\n",
    "# lr_finder.range_test(trainloader, val_loader=valloader, end_lr=1, num_iter=100, step_mode=\"linear\")\n",
    "# lr_finder.plot(log_lr=False)\n",
    "# lr_finder.reset()"
   ]
  },
  {
   "cell_type": "code",
   "execution_count": 246,
   "metadata": {},
   "outputs": [],
   "source": [
    "# for param in model.features.parameters():\n",
    "#     param.requires_grad = True\n",
    "    \n",
    "# optimizer = torch.optim.Adam([{'params': model.classifier.parameters()},\n",
    "#                 {'params': model.features.parameters(), 'lr': 0.00001}\n",
    "#             ], lr=0.002)"
   ]
  },
  {
   "cell_type": "code",
   "execution_count": 69,
   "metadata": {},
   "outputs": [
    {
     "data": {
      "image/png": "[encoded data removed]",
      "text/plain": [
       "<Figure size 432x288 with 1 Axes>"
      ]
     },
     "metadata": {
      "needs_background": "light"
     },
     "output_type": "display_data"
    }
   ],
   "source": [
    "\n",
    "plt.plot(ltrain, label='Training loss', color='green')\n",
    "plt.plot(lval, label='Validation loss', color ='black')\n",
    "plt.legend(frameon=False)\n",
    "plt.show()"
   ]
  },
  {
   "cell_type": "code",
   "execution_count": null,
   "metadata": {},
   "outputs": [],
   "source": []
  },
  {
   "cell_type": "code",
   "execution_count": null,
   "metadata": {},
   "outputs": [],
   "source": []
  }
 ],
 "metadata": {
  "kernelspec": {
   "display_name": "Python 3",
   "language": "python",
   "name": "python3"
  },
  "language_info": {
   "codemirror_mode": {
    "name": "ipython",
    "version": 3
   },
   "file_extension": ".py",
   "mimetype": "text/x-python",
   "name": "python",
   "nbconvert_exporter": "python",
   "pygments_lexer": "ipython3",
   "version": "3.7.4"
  }
 },
 "nbformat": 4,
 "nbformat_minor": 4
}
